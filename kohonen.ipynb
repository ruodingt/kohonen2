{
 "cells": [
  {
   "cell_type": "markdown",
   "metadata": {},
   "source": [
    "# Self Organising Map Challenge\n",
    "\n",
    "## The Kohonen Network\n",
    "\n",
    "The Kohonen Self Organizing Map (SOM) provides a data visualization technique which helps to understand high dimensional data by reducing the dimensions of data to a map. SOM also represents clustering concept by grouping similar data together.\n",
    "\n",
    "Unlike other learning technique in neural networks, training a SOM requires no target vector. A SOM learns to classify the training data without any external supervision.\n",
    "\n",
    "![Network](http://www.pitt.edu/~is2470pb/Spring05/FinalProjects/Group1a/tutorial/kohonen1.gif)\n",
    "\n",
    "### Structure\n",
    "A network has a width and a height that descibes the grid of nodes.  For example, the grid may be 4x4, and so there would be 16 nodes.\n",
    "\n",
    "Each node has a weight for each value in the input vector.  A weight is simply a float value that the node multiplies the input value by to determine how influential it is (see below)\n",
    "\n",
    "Each node has a set of weights that match the size of the input vector.  For example, if the input vector has 10 elements, each node would have 10 weights.\n",
    "\n",
    "### Training \n",
    "To train the network\n",
    "\n",
    "1. Each node's weights are initialized.\n",
    "2. We enumerate through the training data for some number of iterations (repeating if necessary).  The current value we are training against will be referred to as the `current input vector`\n",
    "3. Every node is examined to calculate which one's weights are most like the input vector. The winning node is commonly known as the Best Matching Unit (BMU).\n",
    "4. The radius of the neighbourhood of the BMU is now calculated. This is a value that starts large, typically set to the 'radius' of the lattice,  but diminishes each time-step. Any nodes found within this radius are deemed to be inside the BMU's neighbourhood.\n",
    "5. Each neighbouring node's (the nodes found in step 4) weights are adjusted to make them more like the input vector. The closer a node is to the BMU, the more its weights get altered.\n",
    "6. Go to step 2 until we've completed N iterations.\n",
    "    \n",
    "\n",
    "### Calculating the Best Matching Unit (BMU)\n",
    "\n",
    "To determine the best matching unit, one method is to iterate through all the nodes and calculate the Euclidean distance between each node's weight vector and the current input vector. The node with a weight vector closest to the input vector is tagged as the BMU.\n",
    "\n",
    "The Euclidean distance $\\mathsf{distance}_{i}$ (from the input vector $V$ to the $i$th node's weights $W_i$)is given as (using Pythagoras):\n",
    "\n",
    "$$ \\mathsf{distance}_{i}=\\sqrt{\\sum_{k=0}^{k=n}(V_k - W_{i_k})^2}$$\n",
    "\n",
    "where V is the current input vector and $W_i$ is the node's weight vector.  $n$ is the size of the input & weight vector.\n",
    "\n",
    "*Note*: $V$ and $W$ are vectors.  $V$ is the input vector, and $W_i$ is the weight vector of the $i$th node.  $V_k$ and $W_{i_k}$ represent the $k$'th value within those vectors.  \n",
    "\n",
    "The BMU is the node with the minimal distance for the current input vector\n",
    "\n",
    "### Calculating the Neighbourhood Radius\n",
    "\n",
    "The next step is to calculate which of the other nodes are within the BMU's neighbourhood. All these nodes will have their weight vectors altered.\n",
    "\n",
    "First we calculate what the radius of the neighbourhood should be and then use Pythagoras to determine if each node is within the radial distance or not.\n",
    "\n",
    "A unique feature of the Kohonen learning algorithm is that the area of the neighbourhood shrinks over time. To do this we use the exponential decay function:\n",
    "\n",
    "Given a desired number of training iterations $n$:\n",
    "$$n_{\\mathsf{max iterations}} = 100$$\n",
    "\n",
    "Calculate the radius $\\sigma_t$ at iteration number $t$:\n",
    "\n",
    "$$\\sigma_t = \\sigma_0 \\exp\\left(- \\frac{t}{\\lambda} \\right) \\qquad t = 1,2,3,4... $$\n",
    "\n",
    "Where $\\sigma_0$ denotes the neighbourhood radius at iteration $t=0$, $t$ is the current iteration. We define $\\sigma_0$ (the initial radius) and $\\lambda$ (the time constant) as below:\n",
    "\n",
    "$$\\sigma_0 = \\frac{\\max(width,height)}{2} \\qquad \\lambda = \\frac{n_{\\mathsf{max iterations}}}{\\log(\\sigma_0)} $$\n",
    "\n",
    "Where $width$ & $height$ are the width and height of the grid.\n",
    "\n",
    "### Calculating the Learning Rate\n",
    "\n",
    "We define the initial leanring rate $\\alpha_0$ at iteration $t = 0$ as:\n",
    "$$\\alpha_0 = 0.1$$\n",
    "\n",
    "So, we can calculate the learning rate at a given iteration t as:\n",
    "\n",
    "$$\\alpha_t = \\alpha_0 \\exp \\left(- \\frac{t}{\\lambda} \\right) $$\n",
    "\n",
    "where $t$ is the iteration number, $\\lambda$ is the time constant (calculated above)\n",
    "        \n",
    "### Calculating the Influence\n",
    "\n",
    "As well as the learning rate, we need to calculate the influence $\\theta_t$ of the learning/training at a given iteration $t$.  \n",
    "\n",
    "So for each node, we need to caclulate the euclidean distance $d_i$ from the BMU to that node.  Similar to when we calculate the distance to find the BMU, we use Pythagoras.  The current ($i$th) node's x position is given by $x(W_i)$, and the BMU's x position is, likewise, given by $x(Z)$.  Similarly, $y()$ returns the y position of a node.\n",
    "\n",
    "$$ d_{i}=\\sqrt{(x(W_i) - x(Z))^2 + (y(W_i) - y(Z))^2} $$\n",
    "\n",
    "Then, the influence decays over time according to:\n",
    "\n",
    "$$\\theta_t = \\exp \\left( - \\frac{d_{i}^2}{2\\sigma_t^2} \\right) $$\n",
    "\n",
    "Where $\\sigma_t$ is the neighbourhood radius at iteration $t$ as calculated above. \n",
    "\n",
    "Note: You will need to come up with an approach to x() and y().\n",
    "\n",
    "\n",
    "### Updating the Weights\n",
    "\n",
    "To update the weights of a given node, we use:\n",
    "\n",
    "$$W_{i_{t+1}} = W_{i_t} + \\alpha_t \\theta_t (V_t - W_{i_t})$$\n",
    "        \n",
    "So $W_{i_{t+1}}$ is the new value of the weight for the $i$th node, $V_t$ is the current value of the training data, $W_{i_t}$ is the current weight and $\\alpha_t$ and $\\theta_t$ are the learning rate and influence calculated above.\n",
    "\n",
    "*Note*: the $W$ and $V$ are vectors "
   ]
  },
  {
   "cell_type": "markdown",
   "metadata": {},
   "source": [
    "## Challenge\n",
    "\n",
    "In this challenge, you need to implement a SOM such that it can categorise a set of random 3-dimensional colours.  The output should be an image of the organised data.  \n",
    "\n",
    "### Expectations and Criteria\n",
    "- **You are expected to detail your decisions & thinking in comments**\n",
    "- You may use any language you like (although the examples given below are using Python)\n",
    "- Avoid using too many libraries that would do too much of the work for you. For example, in Python a good approach would be to use only functions from `numpy` (together with in-built libs if needed)\n",
    "- Try and make your code as efficient as possible. Feel free to deviate from a literal interpretation of the instructions given under the **Training** heading above in the interest of code efficiency\n",
    "- Consider the best way to structure your code and code base for later use by other developers or in anticipation of productionisation (you don't need to use Jupyter Notebook if it doesn't fit)\n",
    "- Include any tests you may have used (tests not required however)\n",
    "- Package your code into a docker image with a `Dockerfile`\n",
    "- Discuss your approach and process to productionise this application\n",
    "- You can use code below to generate the trainig data of 10 colours:"
   ]
  },
  {
   "cell_type": "code",
   "execution_count": 12,
   "metadata": {},
   "outputs": [
    {
     "data": {
      "text/plain": [
       "array([[9.05131882e-01, 3.67251427e-01, 9.36339196e-01],\n",
       "       [6.37265967e-01, 7.88500274e-01, 5.69091547e-02],\n",
       "       [6.14342321e-01, 4.66406258e-01, 7.29505610e-01],\n",
       "       [9.16495519e-01, 1.06652785e-01, 2.54961347e-01],\n",
       "       [5.22058081e-01, 8.29133051e-01, 1.96847883e-04],\n",
       "       [4.34703298e-01, 1.52494013e-01, 3.15362195e-01],\n",
       "       [6.95159547e-01, 5.78547578e-02, 4.79755722e-01],\n",
       "       [8.52730589e-01, 3.74379929e-01, 2.85504493e-01],\n",
       "       [1.96497469e-01, 1.04774546e-01, 1.39049501e-01],\n",
       "       [2.78310231e-01, 1.70570171e-02, 8.31491986e-01]])"
      ]
     },
     "execution_count": 12,
     "metadata": {},
     "output_type": "execute_result"
    }
   ],
   "source": [
    "# Generate Data\n",
    "import numpy as np\n",
    "input_data = np.random.random((10,3))\n",
    "input_data"
   ]
  },
  {
   "cell_type": "markdown",
   "metadata": {},
   "source": [
    "### 1. Implement a Kohonen network\n",
    "- Use the above description to implement a Kohonen network (Done)\n",
    "- Make sure you can configure the size of the input vector and the size of the map (Done)\n",
    "- Make sure node's weights are initialized to random values (Done)"
   ]
  },
  {
   "cell_type": "code",
   "execution_count": 13,
   "metadata": {},
   "outputs": [
    {
     "name": "stdout",
     "output_type": "stream",
     "text": [
      "import numpy as np\r\n",
      "\r\n",
      "from ksom.config import configurable\r\n",
      "import matplotlib.pyplot as plt\r\n",
      "\r\n",
      "\r\n",
      "def pairwise_dist(a, b, sqrt=True, p=2):\r\n",
      "    \"\"\"\r\n",
      "\r\n",
      "    :param p:\r\n",
      "    :param sqrt: if False return sum_of_square\r\n",
      "    :param a: matrix with shape [batch_size, *shape_, dim]\r\n",
      "    :param b: matrix with shape [*shape_, dim]\r\n",
      "    :return: dist matrix with shape [batch_size, *shape_]\r\n",
      "    \"\"\"\r\n",
      "    _d = a - b\r\n",
      "    sum_of_square = np.sum(np.power(_d, p), axis=-1)\r\n",
      "    if sqrt:\r\n",
      "        return np.power(sum_of_square, 1 / p)\r\n",
      "    else:\r\n",
      "        return sum_of_square\r\n",
      "\r\n",
      "\r\n",
      "class KohonenSOM:\r\n",
      "    @configurable\r\n",
      "    def __init__(self, w, h, d, init_lr=0.1, global_step=0, max_iter=100):\r\n",
      "        \"\"\"\r\n",
      "\r\n",
      "        :param w: map width\r\n",
      "        :param h: map height\r\n",
      "        :param d: input vector dimension\r\n",
      "        \"\"\"\r\n",
      "        # self._weight = np.random.uniform(low=-1, high=1, size=(h, w, d))\r\n",
      "        self._weight = np.random.uniform(low=0, high=1, size=(h, w, d))\r\n",
      "        self.init_lr = init_lr\r\n",
      "        self.global_step = global_step\r\n",
      "        self.max_iter = max_iter\r\n",
      "        self.s0, self.lbd = self.calculate_initial_hparams(h, w)\r\n",
      "        self.map_indices = np.stack(np.ones((h, w)).nonzero(), axis=-1)\r\n",
      "\r\n",
      "    @classmethod\r\n",
      "    def from_config(cls, cfg):\r\n",
      "        return dict(\r\n",
      "            w=cfg.SOM.W,\r\n",
      "            h=cfg.SOM.H,\r\n",
      "            d=cfg.SOM.D,\r\n",
      "            init_lr=cfg.INIT_LR,\r\n",
      "            global_step=0,\r\n",
      "            max_iter=cfg.MAX_ITER)\r\n",
      "\r\n",
      "    def calculate_initial_hparams(self, h, w):\r\n",
      "        s0 = max(h, w) / 2\r\n",
      "        lbd = self.max_iter / np.log(s0)\r\n",
      "        return s0, lbd\r\n",
      "\r\n",
      "    @property\r\n",
      "    def weight(self):\r\n",
      "        return self._weight\r\n",
      "\r\n",
      "    @property\r\n",
      "    def decay_factor(self):\r\n",
      "        return np.exp(-self.global_step / self.lbd)\r\n",
      "\r\n",
      "    def mapping_step(self, x: np.ndarray) -> np.ndarray:\r\n",
      "        \"\"\"\r\n",
      "        The mapping step of SOM:\r\n",
      "        quantize input vectors to the map codebook\r\n",
      "\r\n",
      "        :param x: input vector matrix of size (batch_size, dim)\r\n",
      "        :return: best matching units in shape (batch_size, 2)\r\n",
      "        \"\"\"\r\n",
      "        x_ = np.expand_dims(x, axis=[1, 2])\r\n",
      "        distances = pairwise_dist(x_, self._weight, sqrt=True)\r\n",
      "        bmus = self.calculate_best_matching_units(distances)\r\n",
      "        return bmus\r\n",
      "\r\n",
      "    @staticmethod\r\n",
      "    def calculate_best_matching_units(distances: np.ndarray) -> np.ndarray:\r\n",
      "        \"\"\"\r\n",
      "        Find BMUs for with distance matrix\r\n",
      "        :param distances matrix (batch, height, width)\r\n",
      "        :return: BMUs (batch, 2)\r\n",
      "        \"\"\"\r\n",
      "\r\n",
      "        batch_size = distances.shape[0]\r\n",
      "        width = distances.shape[2]\r\n",
      "\r\n",
      "        distances = distances.reshape((batch_size, -1))\r\n",
      "        min_idxs = distances.argmin(-1)\r\n",
      "        # Distances are flattened, so we need to transform 1d indices into 2d map locations\r\n",
      "        bmus = np.stack([min_idxs // width, min_idxs % width], axis=1)\r\n",
      "        return bmus\r\n",
      "\r\n",
      "    def calculate_influence(self, bmus, sigma_t):\r\n",
      "        bmus_ = np.expand_dims(bmus, axis=1)\r\n",
      "        distance_sum_of_square_map_node = pairwise_dist(bmus_, self.map_indices, sqrt=False)\r\n",
      "\r\n",
      "        theta_t = np.exp(-distance_sum_of_square_map_node\r\n",
      "                         / (2 * np.power(sigma_t, 2)))\r\n",
      "        return theta_t\r\n",
      "\r\n",
      "    def node_update_step(self, x, bmus):\r\n",
      "        \"\"\"\r\n",
      "        The node updating step of SOM\r\n",
      "        :param x: input vector matrix\r\n",
      "        :param bmus:\r\n",
      "        :return:\r\n",
      "        \"\"\"\r\n",
      "\r\n",
      "        decay_factor = self.decay_factor\r\n",
      "\r\n",
      "        # calculate radius\r\n",
      "        sigma_t = self.s0 * decay_factor\r\n",
      "        lr_t = self.init_lr * decay_factor\r\n",
      "\r\n",
      "        # calclate influence\r\n",
      "        _theta_shape = (x.shape[0], *self._weight.shape[:2], 1)\r\n",
      "        theta_t = self.calculate_influence(bmus, sigma_t).reshape(_theta_shape)\r\n",
      "\r\n",
      "        # update weight\r\n",
      "        vw_diff_ = np.expand_dims(x, axis=[1, 2]) - self._weight\r\n",
      "        self._weight += lr_t * np.average(theta_t * vw_diff_, axis=0)\r\n",
      "\r\n",
      "    def run_step(self, x):\r\n",
      "        bmus = self.mapping_step(x)\r\n",
      "        self.node_update_step(x=x, bmus=bmus)\r\n",
      "\r\n",
      "    def visualise_weight(self):\r\n",
      "        fig = plt.imshow(self._weight)\r\n",
      "        plt.title(f\"step: {self.global_step}\")\r\n",
      "        return fig\r\n"
     ]
    }
   ],
   "source": [
    "# Implement the network...\n",
    "! cat ksom/kohonensom_model.py"
   ]
  },
  {
   "cell_type": "markdown",
   "metadata": {},
   "source": [
    "### 2. Train a 10x10 network over 100 iterations\n",
    "\n",
    "- **Training data is a random set of 20 colours**\n",
    "  - Achieved by setting `cfg_.DATA.LENGTH = 20`\n",
    "- **How long does this take?**\n",
    "  - 2.6s, can be faster if we set `cfg_.CALLBACK_PERIOD` a bigger value, which logs `weight` image every `cfg_.CALLBACK_PERIOD` steps\n",
    "- **What does the map look like? (You will need to translate the weights of each node in the map to pixel data)**\n",
    "  - see below\n",
    "- **What does this look like if you perform 200 & 500 iterations?**\n",
    "  - setting `cfg_.MAX_ITER = 500` or `cfg_.MAX_ITER = 200`\n",
    "\n",
    "You should end up with something that looks like below after 500 iterations:"
   ]
  },
  {
   "cell_type": "code",
   "execution_count": 14,
   "metadata": {},
   "outputs": [
    {
     "name": "stdout",
     "output_type": "stream",
     "text": [
      "CALLBACK_PERIOD: 20\n",
      "DATA:\n",
      "  BATCH_SIZE: 1\n",
      "  DIM: 3\n",
      "  LENGTH: 20\n",
      "EXP_NAME: default_exp\n",
      "INIT_LR: 0.1\n",
      "LOG_DIR: logs\n",
      "MAX_ITER: 500\n",
      "SOM:\n",
      "  D: 3\n",
      "  H: 10\n",
      "  W: 10\n"
     ]
    }
   ],
   "source": [
    "from ksom.default_setup import default_setup\n",
    "from ksom.trainer import Trainer\n",
    "\n",
    "cfg_ = default_setup(verbose=False)\n",
    "cfg_.MAX_ITER = 500\n",
    "cfg_.DATA.LENGTH = 20\n",
    "cfg_.CALLBACK_PERIOD = 20\n",
    "print(cfg_)"
   ]
  },
  {
   "cell_type": "code",
   "execution_count": 15,
   "metadata": {},
   "outputs": [
    {
     "name": "stdout",
     "output_type": "stream",
     "text": [
      "\n",
      "\u001B[32m[05/20 14:21:43 KohonenSOM.default_exp]: \u001B[0mglobal_step: 0/500\n",
      "\u001B[32m[05/20 14:21:43 KohonenSOM.default_exp]: \u001B[0mglobal_step: 20/500\n",
      "\u001B[32m[05/20 14:21:43 KohonenSOM.default_exp]: \u001B[0mglobal_step: 40/500\n",
      "\u001B[32m[05/20 14:21:43 KohonenSOM.default_exp]: \u001B[0mglobal_step: 60/500\n",
      "\u001B[32m[05/20 14:21:43 KohonenSOM.default_exp]: \u001B[0mglobal_step: 80/500\n",
      "\u001B[32m[05/20 14:21:43 KohonenSOM.default_exp]: \u001B[0mglobal_step: 100/500\n",
      "\u001B[32m[05/20 14:21:43 KohonenSOM.default_exp]: \u001B[0mglobal_step: 120/500\n",
      "\u001B[32m[05/20 14:21:43 KohonenSOM.default_exp]: \u001B[0mglobal_step: 140/500\n",
      "\u001B[32m[05/20 14:21:43 KohonenSOM.default_exp]: \u001B[0mglobal_step: 160/500\n",
      "\u001B[32m[05/20 14:21:43 KohonenSOM.default_exp]: \u001B[0mglobal_step: 180/500\n",
      "\u001B[32m[05/20 14:21:43 KohonenSOM.default_exp]: \u001B[0mglobal_step: 200/500\n",
      "\u001B[32m[05/20 14:21:43 KohonenSOM.default_exp]: \u001B[0mglobal_step: 220/500\n",
      "\u001B[32m[05/20 14:21:43 KohonenSOM.default_exp]: \u001B[0mglobal_step: 240/500\n",
      "\u001B[32m[05/20 14:21:44 KohonenSOM.default_exp]: \u001B[0mglobal_step: 260/500\n",
      "\u001B[32m[05/20 14:21:44 KohonenSOM.default_exp]: \u001B[0mglobal_step: 280/500\n",
      "\u001B[32m[05/20 14:21:44 KohonenSOM.default_exp]: \u001B[0mglobal_step: 300/500\n",
      "\u001B[32m[05/20 14:21:44 KohonenSOM.default_exp]: \u001B[0mglobal_step: 320/500\n",
      "\u001B[32m[05/20 14:21:44 KohonenSOM.default_exp]: \u001B[0mglobal_step: 340/500\n",
      "\u001B[32m[05/20 14:21:44 KohonenSOM.default_exp]: \u001B[0mglobal_step: 360/500\n",
      "\u001B[32m[05/20 14:21:44 KohonenSOM.default_exp]: \u001B[0mglobal_step: 380/500\n",
      "\u001B[32m[05/20 14:21:44 KohonenSOM.default_exp]: \u001B[0mglobal_step: 400/500\n",
      "\u001B[32m[05/20 14:21:44 KohonenSOM.default_exp]: \u001B[0mglobal_step: 420/500\n",
      "\u001B[32m[05/20 14:21:44 KohonenSOM.default_exp]: \u001B[0mglobal_step: 440/500\n",
      "\u001B[32m[05/20 14:21:44 KohonenSOM.default_exp]: \u001B[0mglobal_step: 460/500\n",
      "\u001B[32m[05/20 14:21:45 KohonenSOM.default_exp]: \u001B[0mglobal_step: 480/500\n",
      "\u001B[32m[05/20 14:21:45 KohonenSOM.default_exp]: \u001B[0mTraining completed within: 1.9414028489991324s\n"
     ]
    },
    {
     "data": {
      "image/png": "[encoded data removed]",
      "text/plain": [
       "<Figure size 432x288 with 1 Axes>"
      ]
     },
     "metadata": {
      "needs_background": "light"
     },
     "output_type": "display_data"
    }
   ],
   "source": [
    "trainer = Trainer(cfg_)\n",
    "print()\n",
    "trainer.train()"
   ]
  },
  {
   "cell_type": "markdown",
   "metadata": {},
   "source": [
    "### 3. Train a 100x100 network over 1000 iterations\n",
    "\n",
    "- This network will likely be significantly slower to train\n",
    "- **What could you do to improve performance?**\n",
    "  - May be a gpu accelerated version but the ROI is not that good\n",
    "  - I won't say it's much slower than previous one. this one takes 4-4.5s mostly because the max_iter doubleed\n",
    "- **What does the network look like after 1000 iterations?**\n",
    "  - See below\n",
    "\n",
    "You should end up with something like below:"
   ]
  },
  {
   "cell_type": "code",
   "execution_count": 17,
   "metadata": {},
   "outputs": [
    {
     "name": "stdout",
     "output_type": "stream",
     "text": [
      "CALLBACK_PERIOD: 50\n",
      "DATA:\n",
      "  BATCH_SIZE: 1\n",
      "  DIM: 3\n",
      "  LENGTH: 20\n",
      "EXP_NAME: default_exp\n",
      "INIT_LR: 0.1\n",
      "LOG_DIR: logs\n",
      "MAX_ITER: 1000\n",
      "SOM:\n",
      "  D: 3\n",
      "  H: 100\n",
      "  W: 100\n"
     ]
    }
   ],
   "source": [
    "from ksom.default_setup import default_setup\n",
    "from ksom.trainer import Trainer\n",
    "\n",
    "cfg_ = default_setup(verbose=False)\n",
    "cfg_.MAX_ITER = 1000\n",
    "cfg_.DATA.LENGTH = 20\n",
    "cfg_.DATA.BATCH_SIZE = 1\n",
    "cfg_.CALLBACK_PERIOD = 50\n",
    "cfg_.SOM.H = 100\n",
    "cfg_.SOM.W = 100\n",
    "print(cfg_)"
   ]
  },
  {
   "cell_type": "code",
   "execution_count": 18,
   "metadata": {},
   "outputs": [
    {
     "name": "stdout",
     "output_type": "stream",
     "text": [
      "\n",
      "\u001B[32m[05/20 14:21:52 KohonenSOM.default_exp]: \u001B[0mglobal_step: 0/1000\n",
      "\u001B[32m[05/20 14:21:52 KohonenSOM.default_exp]: \u001B[0mglobal_step: 50/1000\n",
      "\u001B[32m[05/20 14:21:53 KohonenSOM.default_exp]: \u001B[0mglobal_step: 100/1000\n",
      "\u001B[32m[05/20 14:21:53 KohonenSOM.default_exp]: \u001B[0mglobal_step: 150/1000\n",
      "\u001B[32m[05/20 14:21:53 KohonenSOM.default_exp]: \u001B[0mglobal_step: 200/1000\n",
      "\u001B[32m[05/20 14:21:53 KohonenSOM.default_exp]: \u001B[0mglobal_step: 250/1000\n",
      "\u001B[32m[05/20 14:21:53 KohonenSOM.default_exp]: \u001B[0mglobal_step: 300/1000\n",
      "\u001B[32m[05/20 14:21:53 KohonenSOM.default_exp]: \u001B[0mglobal_step: 350/1000\n",
      "\u001B[32m[05/20 14:21:54 KohonenSOM.default_exp]: \u001B[0mglobal_step: 400/1000\n",
      "\u001B[32m[05/20 14:21:54 KohonenSOM.default_exp]: \u001B[0mglobal_step: 450/1000\n",
      "\u001B[32m[05/20 14:21:54 KohonenSOM.default_exp]: \u001B[0mglobal_step: 500/1000\n",
      "\u001B[32m[05/20 14:21:54 KohonenSOM.default_exp]: \u001B[0mglobal_step: 550/1000\n",
      "\u001B[32m[05/20 14:21:54 KohonenSOM.default_exp]: \u001B[0mglobal_step: 600/1000\n",
      "\u001B[32m[05/20 14:21:55 KohonenSOM.default_exp]: \u001B[0mglobal_step: 650/1000\n",
      "\u001B[32m[05/20 14:21:55 KohonenSOM.default_exp]: \u001B[0mglobal_step: 700/1000\n",
      "\u001B[32m[05/20 14:21:55 KohonenSOM.default_exp]: \u001B[0mglobal_step: 750/1000\n",
      "\u001B[32m[05/20 14:21:55 KohonenSOM.default_exp]: \u001B[0mglobal_step: 800/1000\n",
      "\u001B[32m[05/20 14:21:56 KohonenSOM.default_exp]: \u001B[0mglobal_step: 850/1000\n",
      "\u001B[32m[05/20 14:21:56 KohonenSOM.default_exp]: \u001B[0mglobal_step: 900/1000\n",
      "\u001B[32m[05/20 14:21:56 KohonenSOM.default_exp]: \u001B[0mglobal_step: 950/1000\n",
      "\u001B[32m[05/20 14:21:56 KohonenSOM.default_exp]: \u001B[0mTraining completed within: 4.046879439993063s\n"
     ]
    },
    {
     "data": {
      "image/png": "[encoded data removed]",
      "text/plain": [
       "<Figure size 432x288 with 1 Axes>"
      ]
     },
     "metadata": {
      "needs_background": "light"
     },
     "output_type": "display_data"
    }
   ],
   "source": [
    "trainer = Trainer(cfg_)\n",
    "print()\n",
    "trainer.train()"
   ]
  },
  {
   "cell_type": "code",
   "execution_count": null,
   "metadata": {},
   "outputs": [],
   "source": []
  }
 ],
 "metadata": {
  "kernelspec": {
   "display_name": "Python 3",
   "language": "python",
   "name": "python3"
  },
  "language_info": {
   "codemirror_mode": {
    "name": "ipython",
    "version": 3
   },
   "file_extension": ".py",
   "mimetype": "text/x-python",
   "name": "python",
   "nbconvert_exporter": "python",
   "pygments_lexer": "ipython3",
   "version": "3.6.9"
  }
 },
 "nbformat": 4,
 "nbformat_minor": 2
}